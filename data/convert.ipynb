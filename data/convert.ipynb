{
 "cells": [
  {
   "cell_type": "code",
   "execution_count": 4,
   "id": "d8085fd0",
   "metadata": {},
   "outputs": [
    {
     "name": "stdout",
     "output_type": "stream",
     "text": [
      "✅ Done. File output_snake_case.json đã được tạo.\n"
     ]
    }
   ],
   "source": [
    "import json\n",
    "import re\n",
    "\n",
    "def to_snake_case(name: str) -> str:\n",
    "    # Chuyển từ PascalCase/camelCase → snake_case\n",
    "    s1 = re.sub(r'(.)([A-Z][a-z]+)', r'\\1_\\2', name)\n",
    "    return re.sub(r'([a-z0-9])([A-Z])', r'\\1_\\2', s1).lower()\n",
    "\n",
    "def convert_keys(obj):\n",
    "    if isinstance(obj, dict):\n",
    "        return {to_snake_case(k): convert_keys(v) for k, v in obj.items()}\n",
    "    elif isinstance(obj, list):\n",
    "        return [convert_keys(i) for i in obj]\n",
    "    else:\n",
    "        return obj\n",
    "\n",
    "# Đọc file JSON gốc\n",
    "with open(\"skill_option_template.json\", \"r\", encoding=\"utf-8\") as f:\n",
    "    data = json.load(f)\n",
    "\n",
    "# Chuyển key\n",
    "converted = convert_keys(data)\n",
    "\n",
    "# Ghi ra file mới\n",
    "with open(\"output_snake_case.json\", \"w\", encoding=\"utf-8\") as f:\n",
    "    json.dump(converted, f, ensure_ascii=False, indent=2)\n",
    "\n",
    "print(\"✅ Done. File output_snake_case.json đã được tạo.\")\n"
   ]
  }
 ],
 "metadata": {
  "kernelspec": {
   "display_name": "Python 3",
   "language": "python",
   "name": "python3"
  },
  "language_info": {
   "codemirror_mode": {
    "name": "ipython",
    "version": 3
   },
   "file_extension": ".py",
   "mimetype": "text/x-python",
   "name": "python",
   "nbconvert_exporter": "python",
   "pygments_lexer": "ipython3",
   "version": "3.13.5"
  }
 },
 "nbformat": 4,
 "nbformat_minor": 5
}
